<<<<<<< HEAD
version https://git-lfs.github.com/spec/v1
oid sha256:5486467a9808ed617c1b85f594b10c05cc4d884ab09d40a9d3a2091523f41f66
size 72044
=======
{
 "cells": [
  {
   "cell_type": "code",
   "execution_count": 10,
   "id": "ed898062",
   "metadata": {},
   "outputs": [],
   "source": [
    "\n",
    "# import libraries\n",
    "import pandas as pd\n",
    "import nltk\n",
    "from nltk.sentiment.vader import SentimentIntensityAnalyzer\n",
    "from nltk.corpus import stopwords\n",
    "from nltk.tokenize import word_tokenize\n",
    "from nltk.stem import WordNetLemmatizer\n",
    "import string\n",
    "from nltk.stem.porter import *\n",
    "from collections import defaultdict\n",
    "import math\n",
    "from sklearn.model_selection import train_test_split\n",
    "import matplotlib.pyplot as plt\n",
    "import numpy\n",
    "from sklearn.metrics import confusion_matrix,ConfusionMatrixDisplay,precision_score,accuracy_score"
   ]
  },
  {
   "cell_type": "code",
   "execution_count": 11,
   "id": "f19e84d4",
   "metadata": {},
   "outputs": [],
   "source": [
    "# nltk.download(\"all\")"
   ]
  },
  {
   "cell_type": "code",
   "execution_count": 12,
   "id": "dc279cb0",
   "metadata": {},
   "outputs": [],
   "source": [
    "# Load the amazon review dataset\n",
    "df = pd.read_csv('../data/IMDB Dataset.csv')"
   ]
  },
  {
   "cell_type": "code",
   "execution_count": 13,
   "id": "b92714b4",
   "metadata": {},
   "outputs": [
    {
     "data": {
      "text/html": [
       "<div>\n",
       "<style scoped>\n",
       "    .dataframe tbody tr th:only-of-type {\n",
       "        vertical-align: middle;\n",
       "    }\n",
       "\n",
       "    .dataframe tbody tr th {\n",
       "        vertical-align: top;\n",
       "    }\n",
       "\n",
       "    .dataframe thead th {\n",
       "        text-align: right;\n",
       "    }\n",
       "</style>\n",
       "<table border=\"1\" class=\"dataframe\">\n",
       "  <thead>\n",
       "    <tr style=\"text-align: right;\">\n",
       "      <th></th>\n",
       "      <th>review</th>\n",
       "      <th>sentiment</th>\n",
       "    </tr>\n",
       "  </thead>\n",
       "  <tbody>\n",
       "    <tr>\n",
       "      <th>0</th>\n",
       "      <td>One of the other reviewers has mentioned that ...</td>\n",
       "      <td>positive</td>\n",
       "    </tr>\n",
       "    <tr>\n",
       "      <th>1</th>\n",
       "      <td>A wonderful little production. &lt;br /&gt;&lt;br /&gt;The...</td>\n",
       "      <td>positive</td>\n",
       "    </tr>\n",
       "    <tr>\n",
       "      <th>2</th>\n",
       "      <td>I thought this was a wonderful way to spend ti...</td>\n",
       "      <td>positive</td>\n",
       "    </tr>\n",
       "    <tr>\n",
       "      <th>3</th>\n",
       "      <td>Basically there's a family where a little boy ...</td>\n",
       "      <td>negative</td>\n",
       "    </tr>\n",
       "    <tr>\n",
       "      <th>4</th>\n",
       "      <td>Petter Mattei's \"Love in the Time of Money\" is...</td>\n",
       "      <td>positive</td>\n",
       "    </tr>\n",
       "    <tr>\n",
       "      <th>...</th>\n",
       "      <td>...</td>\n",
       "      <td>...</td>\n",
       "    </tr>\n",
       "    <tr>\n",
       "      <th>49995</th>\n",
       "      <td>I thought this movie did a down right good job...</td>\n",
       "      <td>positive</td>\n",
       "    </tr>\n",
       "    <tr>\n",
       "      <th>49996</th>\n",
       "      <td>Bad plot, bad dialogue, bad acting, idiotic di...</td>\n",
       "      <td>negative</td>\n",
       "    </tr>\n",
       "    <tr>\n",
       "      <th>49997</th>\n",
       "      <td>I am a Catholic taught in parochial elementary...</td>\n",
       "      <td>negative</td>\n",
       "    </tr>\n",
       "    <tr>\n",
       "      <th>49998</th>\n",
       "      <td>I'm going to have to disagree with the previou...</td>\n",
       "      <td>negative</td>\n",
       "    </tr>\n",
       "    <tr>\n",
       "      <th>49999</th>\n",
       "      <td>No one expects the Star Trek movies to be high...</td>\n",
       "      <td>negative</td>\n",
       "    </tr>\n",
       "  </tbody>\n",
       "</table>\n",
       "<p>50000 rows × 2 columns</p>\n",
       "</div>"
      ],
      "text/plain": [
       "                                                  review sentiment\n",
       "0      One of the other reviewers has mentioned that ...  positive\n",
       "1      A wonderful little production. <br /><br />The...  positive\n",
       "2      I thought this was a wonderful way to spend ti...  positive\n",
       "3      Basically there's a family where a little boy ...  negative\n",
       "4      Petter Mattei's \"Love in the Time of Money\" is...  positive\n",
       "...                                                  ...       ...\n",
       "49995  I thought this movie did a down right good job...  positive\n",
       "49996  Bad plot, bad dialogue, bad acting, idiotic di...  negative\n",
       "49997  I am a Catholic taught in parochial elementary...  negative\n",
       "49998  I'm going to have to disagree with the previou...  negative\n",
       "49999  No one expects the Star Trek movies to be high...  negative\n",
       "\n",
       "[50000 rows x 2 columns]"
      ]
     },
     "execution_count": 13,
     "metadata": {},
     "output_type": "execute_result"
    }
   ],
   "source": [
    "df"
   ]
  },
  {
   "cell_type": "code",
   "execution_count": 14,
   "id": "813c9fb6",
   "metadata": {},
   "outputs": [
    {
     "data": {
      "text/plain": [
       "(50000, 2)"
      ]
     },
     "execution_count": 14,
     "metadata": {},
     "output_type": "execute_result"
    }
   ],
   "source": [
    "df.shape"
   ]
  },
  {
   "cell_type": "code",
   "execution_count": 15,
   "id": "0622ad38",
   "metadata": {},
   "outputs": [],
   "source": [
    "# df = df[:20000]"
   ]
  },
  {
   "cell_type": "code",
   "execution_count": 16,
   "id": "936588d5",
   "metadata": {},
   "outputs": [
    {
     "data": {
      "text/html": [
       "<div>\n",
       "<style scoped>\n",
       "    .dataframe tbody tr th:only-of-type {\n",
       "        vertical-align: middle;\n",
       "    }\n",
       "\n",
       "    .dataframe tbody tr th {\n",
       "        vertical-align: top;\n",
       "    }\n",
       "\n",
       "    .dataframe thead th {\n",
       "        text-align: right;\n",
       "    }\n",
       "</style>\n",
       "<table border=\"1\" class=\"dataframe\">\n",
       "  <thead>\n",
       "    <tr style=\"text-align: right;\">\n",
       "      <th></th>\n",
       "      <th>review</th>\n",
       "      <th>sentiment</th>\n",
       "    </tr>\n",
       "  </thead>\n",
       "  <tbody>\n",
       "    <tr>\n",
       "      <th>0</th>\n",
       "      <td>One of the other reviewers has mentioned that ...</td>\n",
       "      <td>positive</td>\n",
       "    </tr>\n",
       "    <tr>\n",
       "      <th>1</th>\n",
       "      <td>A wonderful little production. &lt;br /&gt;&lt;br /&gt;The...</td>\n",
       "      <td>positive</td>\n",
       "    </tr>\n",
       "    <tr>\n",
       "      <th>2</th>\n",
       "      <td>I thought this was a wonderful way to spend ti...</td>\n",
       "      <td>positive</td>\n",
       "    </tr>\n",
       "    <tr>\n",
       "      <th>3</th>\n",
       "      <td>Basically there's a family where a little boy ...</td>\n",
       "      <td>negative</td>\n",
       "    </tr>\n",
       "    <tr>\n",
       "      <th>4</th>\n",
       "      <td>Petter Mattei's \"Love in the Time of Money\" is...</td>\n",
       "      <td>positive</td>\n",
       "    </tr>\n",
       "    <tr>\n",
       "      <th>...</th>\n",
       "      <td>...</td>\n",
       "      <td>...</td>\n",
       "    </tr>\n",
       "    <tr>\n",
       "      <th>49995</th>\n",
       "      <td>I thought this movie did a down right good job...</td>\n",
       "      <td>positive</td>\n",
       "    </tr>\n",
       "    <tr>\n",
       "      <th>49996</th>\n",
       "      <td>Bad plot, bad dialogue, bad acting, idiotic di...</td>\n",
       "      <td>negative</td>\n",
       "    </tr>\n",
       "    <tr>\n",
       "      <th>49997</th>\n",
       "      <td>I am a Catholic taught in parochial elementary...</td>\n",
       "      <td>negative</td>\n",
       "    </tr>\n",
       "    <tr>\n",
       "      <th>49998</th>\n",
       "      <td>I'm going to have to disagree with the previou...</td>\n",
       "      <td>negative</td>\n",
       "    </tr>\n",
       "    <tr>\n",
       "      <th>49999</th>\n",
       "      <td>No one expects the Star Trek movies to be high...</td>\n",
       "      <td>negative</td>\n",
       "    </tr>\n",
       "  </tbody>\n",
       "</table>\n",
       "<p>50000 rows × 2 columns</p>\n",
       "</div>"
      ],
      "text/plain": [
       "                                                  review sentiment\n",
       "0      One of the other reviewers has mentioned that ...  positive\n",
       "1      A wonderful little production. <br /><br />The...  positive\n",
       "2      I thought this was a wonderful way to spend ti...  positive\n",
       "3      Basically there's a family where a little boy ...  negative\n",
       "4      Petter Mattei's \"Love in the Time of Money\" is...  positive\n",
       "...                                                  ...       ...\n",
       "49995  I thought this movie did a down right good job...  positive\n",
       "49996  Bad plot, bad dialogue, bad acting, idiotic di...  negative\n",
       "49997  I am a Catholic taught in parochial elementary...  negative\n",
       "49998  I'm going to have to disagree with the previou...  negative\n",
       "49999  No one expects the Star Trek movies to be high...  negative\n",
       "\n",
       "[50000 rows x 2 columns]"
      ]
     },
     "execution_count": 16,
     "metadata": {},
     "output_type": "execute_result"
    }
   ],
   "source": [
    "df"
   ]
  },
  {
   "cell_type": "code",
   "execution_count": 17,
   "id": "477585d9",
   "metadata": {},
   "outputs": [],
   "source": [
    "train, test = train_test_split(df,test_size=0.30, shuffle= True)"
   ]
  },
  {
   "cell_type": "code",
   "execution_count": 18,
   "id": "cb5d3aa4",
   "metadata": {},
   "outputs": [],
   "source": [
    "def preprocess_text(text:str):\n",
    "    \n",
    "    text = text.translate(str.maketrans(\"\", \"\", string.punctuation))\n",
    "    \n",
    "    tokens = word_tokenize(text.lower())\n",
    "\n",
    "    filtered_tokens = [token for token in tokens if token not in stopwords.words('english')]\n",
    "\n",
    "    stemmer =  PorterStemmer()\n",
    "    \n",
    "    stopwords_set = set(stopwords.words(\"english\"))\n",
    "    \n",
    "    tokens_2 = [stemmer.stem(token) for token in filtered_tokens if token not in stopwords_set]\n",
    "\n",
    "    return tokens_2"
   ]
  },
  {
   "cell_type": "code",
   "execution_count": 19,
   "id": "379673c8",
   "metadata": {},
   "outputs": [
    {
     "data": {
      "text/html": [
       "<div>\n",
       "<style scoped>\n",
       "    .dataframe tbody tr th:only-of-type {\n",
       "        vertical-align: middle;\n",
       "    }\n",
       "\n",
       "    .dataframe tbody tr th {\n",
       "        vertical-align: top;\n",
       "    }\n",
       "\n",
       "    .dataframe thead th {\n",
       "        text-align: right;\n",
       "    }\n",
       "</style>\n",
       "<table border=\"1\" class=\"dataframe\">\n",
       "  <thead>\n",
       "    <tr style=\"text-align: right;\">\n",
       "      <th></th>\n",
       "      <th>review</th>\n",
       "      <th>sentiment</th>\n",
       "    </tr>\n",
       "  </thead>\n",
       "  <tbody>\n",
       "    <tr>\n",
       "      <th>26507</th>\n",
       "      <td>Stalker is right! Girl sees guy, girl wants gu...</td>\n",
       "      <td>negative</td>\n",
       "    </tr>\n",
       "    <tr>\n",
       "      <th>45263</th>\n",
       "      <td>All this dismaying waste of film stock needs i...</td>\n",
       "      <td>negative</td>\n",
       "    </tr>\n",
       "    <tr>\n",
       "      <th>18086</th>\n",
       "      <td>I was 15 years old when this movie premiered o...</td>\n",
       "      <td>positive</td>\n",
       "    </tr>\n",
       "    <tr>\n",
       "      <th>6574</th>\n",
       "      <td>Luis Bunuel's \"Nazarin\" will always be remembe...</td>\n",
       "      <td>positive</td>\n",
       "    </tr>\n",
       "    <tr>\n",
       "      <th>5622</th>\n",
       "      <td>A must for any punk rocker, this is the movie ...</td>\n",
       "      <td>positive</td>\n",
       "    </tr>\n",
       "    <tr>\n",
       "      <th>...</th>\n",
       "      <td>...</td>\n",
       "      <td>...</td>\n",
       "    </tr>\n",
       "    <tr>\n",
       "      <th>46100</th>\n",
       "      <td>One of the worst films I have ever seen! After...</td>\n",
       "      <td>negative</td>\n",
       "    </tr>\n",
       "    <tr>\n",
       "      <th>14545</th>\n",
       "      <td>That this poor excuse for an amateur hour show...</td>\n",
       "      <td>negative</td>\n",
       "    </tr>\n",
       "    <tr>\n",
       "      <th>30578</th>\n",
       "      <td>After 10 years, it is finally save to say that...</td>\n",
       "      <td>positive</td>\n",
       "    </tr>\n",
       "    <tr>\n",
       "      <th>39749</th>\n",
       "      <td>Daffy Duck has signs hanging from every inch o...</td>\n",
       "      <td>positive</td>\n",
       "    </tr>\n",
       "    <tr>\n",
       "      <th>1484</th>\n",
       "      <td>Robert Wagner is the evil boss of Digicron, a ...</td>\n",
       "      <td>negative</td>\n",
       "    </tr>\n",
       "  </tbody>\n",
       "</table>\n",
       "<p>35000 rows × 2 columns</p>\n",
       "</div>"
      ],
      "text/plain": [
       "                                                  review sentiment\n",
       "26507  Stalker is right! Girl sees guy, girl wants gu...  negative\n",
       "45263  All this dismaying waste of film stock needs i...  negative\n",
       "18086  I was 15 years old when this movie premiered o...  positive\n",
       "6574   Luis Bunuel's \"Nazarin\" will always be remembe...  positive\n",
       "5622   A must for any punk rocker, this is the movie ...  positive\n",
       "...                                                  ...       ...\n",
       "46100  One of the worst films I have ever seen! After...  negative\n",
       "14545  That this poor excuse for an amateur hour show...  negative\n",
       "30578  After 10 years, it is finally save to say that...  positive\n",
       "39749  Daffy Duck has signs hanging from every inch o...  positive\n",
       "1484   Robert Wagner is the evil boss of Digicron, a ...  negative\n",
       "\n",
       "[35000 rows x 2 columns]"
      ]
     },
     "execution_count": 19,
     "metadata": {},
     "output_type": "execute_result"
    }
   ],
   "source": [
    "train"
   ]
  },
  {
   "cell_type": "code",
   "execution_count": 20,
   "id": "0d8e124a",
   "metadata": {},
   "outputs": [],
   "source": [
    "def calculate_word_counts(reviews):\n",
    "    word_count = defaultdict(int)\n",
    "    \n",
    "    for review in reviews:\n",
    "        tokens = preprocess_text(review)\n",
    "        \n",
    "        for token in tokens:\n",
    "            word_count[token] += 1\n",
    "    \n",
    "    return word_count"
   ]
  },
  {
   "cell_type": "code",
   "execution_count": 21,
   "id": "c839ece6",
   "metadata": {},
   "outputs": [],
   "source": [
    "def calculate_likelihood(word_count, total_words, laplacian_smoothing=1):\n",
    "    likelihood = {}\n",
    "    \n",
    "    vocabulary_size = len(word_count)\n",
    "\n",
    "    for word, count in word_count.items():\n",
    "        likelihood[word] = (count + laplacian_smoothing) / (total_words + laplacian_smoothing * vocabulary_size)\n",
    "\n",
    "    # Return the calculated likelihood dictionary\n",
    "    return likelihood"
   ]
  },
  {
   "cell_type": "code",
   "execution_count": 22,
   "id": "f9a373f3",
   "metadata": {},
   "outputs": [],
   "source": [
    "def calculate_log_prior(sentiment, data):\n",
    "    return math.log(len(data[data['sentiment'] == sentiment]) / len(data))"
   ]
  },
  {
   "cell_type": "code",
   "execution_count": 23,
   "id": "df6d7ca9",
   "metadata": {},
   "outputs": [],
   "source": [
    "def classify_review_with_scores(review, log_likelihood_positive, log_likelihood_negative,log_prior_positive, log_prior_negative):\n",
    "    tokens = preprocess_text(review)\n",
    "\n",
    "    log_score_positive = log_prior_positive + sum([log_likelihood_positive.get(token, 0) for token in tokens])\n",
    "    log_score_negative = log_prior_negative + sum([log_likelihood_negative.get(token, 0) for token in tokens])\n",
    "\n",
    "    sentiment_scores = {\n",
    "        'positive': log_score_positive,\n",
    "        'negative': log_score_negative\n",
    "    }\n",
    "\n",
    "    predicted_sentiment = max(sentiment_scores, key=sentiment_scores.get)\n",
    "    return predicted_sentiment, sentiment_scores"
   ]
  },
  {
   "cell_type": "code",
   "execution_count": 24,
   "id": "f7c71b2b",
   "metadata": {},
   "outputs": [],
   "source": [
    "word_count_positive = calculate_word_counts(train[train['sentiment'] == 'positive']['review'])\n",
    "word_count_negative = calculate_word_counts(train[train['sentiment'] == 'negative']['review'])\n",
    "\n",
    "total_positive_words = sum(word_count_positive.values())\n",
    "total_negative_words = sum(word_count_negative.values())\n",
    "\n",
    "likelihood_positive = calculate_likelihood(word_count_positive, total_positive_words)\n",
    "likelihood_negative = calculate_likelihood(word_count_negative, total_negative_words)\n",
    "\n",
    "positive = calculate_log_prior('positive', train)\n",
    "negative = calculate_log_prior('negative', train)\n",
    "\n",
    "log_likelihood_positive = {word: math.log(prob) for word, prob in likelihood_positive.items()}\n",
    "log_likelihood_negative = {word: math.log(prob) for word, prob in likelihood_negative.items()}"
   ]
  },
  {
   "cell_type": "code",
   "execution_count": 25,
   "id": "2d543582",
   "metadata": {},
   "outputs": [],
   "source": [
    "correct_predictions = 0\n",
    "total_predictions = len(test)\n",
    "y_pred = []\n",
    "\n",
    "for index, row in test.iterrows():\n",
    "    predicted_sentiment, sentiment_scores = classify_review_with_scores(\n",
    "        row['review'], log_likelihood_positive, log_likelihood_negative,\n",
    "        positive, negative,\n",
    "    )\n",
    "    y_pred.append(predicted_sentiment)"
   ]
  },
  {
   "cell_type": "code",
   "execution_count": 26,
   "id": "f862cacd",
   "metadata": {},
   "outputs": [
    {
     "data": {
      "text/plain": [
       "48940    negative\n",
       "42038    positive\n",
       "19149    negative\n",
       "11989    negative\n",
       "23504    negative\n",
       "           ...   \n",
       "32988    negative\n",
       "44883    positive\n",
       "9944     positive\n",
       "5243     positive\n",
       "29652    positive\n",
       "Name: sentiment, Length: 15000, dtype: object"
      ]
     },
     "execution_count": 26,
     "metadata": {},
     "output_type": "execute_result"
    }
   ],
   "source": [
    "test['sentiment']"
   ]
  },
  {
   "cell_type": "code",
   "execution_count": 33,
   "id": "dfa0580a",
   "metadata": {},
   "outputs": [
    {
     "data": {
      "text/plain": [
       "15000"
      ]
     },
     "execution_count": 33,
     "metadata": {},
     "output_type": "execute_result"
    }
   ],
   "source": [
    "len(y_pred)"
   ]
  },
  {
   "cell_type": "code",
   "execution_count": 28,
   "id": "5781d700",
   "metadata": {},
   "outputs": [
    {
     "data": {
      "image/png": "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",
      "text/plain": [
       "<Figure size 640x480 with 2 Axes>"
      ]
     },
     "metadata": {},
     "output_type": "display_data"
    }
   ],
   "source": [
    "confusion_matr = confusion_matrix(test['sentiment'], y_pred, labels=['positive', 'negative'])\n",
    "\n",
    "cm_display = ConfusionMatrixDisplay(confusion_matrix = confusion_matr, display_labels = ['positive', 'negative'])\n",
    "\n",
    "cm_display.plot()\n",
    "plt.savefig(\"matrix_confusao\")\n",
    "plt.show() "
   ]
  },
  {
   "cell_type": "code",
   "execution_count": 29,
   "id": "e8847cd5",
   "metadata": {},
   "outputs": [
    {
     "data": {
      "text/plain": [
       "0.6492"
      ]
     },
     "execution_count": 29,
     "metadata": {},
     "output_type": "execute_result"
    }
   ],
   "source": [
    "accuracy_score(test['sentiment'], y_pred)"
   ]
  },
  {
   "cell_type": "code",
   "execution_count": 30,
   "id": "2ca958e4",
   "metadata": {},
   "outputs": [
    {
     "data": {
      "text/plain": [
       "0.6517163313318626"
      ]
     },
     "execution_count": 30,
     "metadata": {},
     "output_type": "execute_result"
    }
   ],
   "source": [
    "precision_score(test['sentiment'], y_pred,average='macro')"
   ]
  },
  {
   "cell_type": "markdown",
   "id": "4271265d",
   "metadata": {},
   "source": [
    "# Use to generate interactions with choosed words"
   ]
  },
  {
   "cell_type": "code",
   "execution_count": 31,
   "id": "127a1b10",
   "metadata": {},
   "outputs": [],
   "source": [
    "# import json\n",
    "\n",
    "# score = {}\n",
    "# df_original = pd.read_csv('./data/IMDB Dataset.csv')\n",
    "# for i in [5000,10000,15000,20000,25000,30000,40000,45000,50000]:\n",
    "#     # Load the amazon review dataset\n",
    "#     df = df_original.sample(i)\n",
    "\n",
    "#     train, test = train_test_split(df,test_size=0.30, shuffle= True)\n",
    "\n",
    "#     word_count_positive = calculate_word_counts(train[train['sentiment'] == 'positive']['review'])\n",
    "#     word_count_negative = calculate_word_counts(train[train['sentiment'] == 'negative']['review'])\n",
    "\n",
    "#     total_positive_words = sum(word_count_positive.values())\n",
    "#     total_negative_words = sum(word_count_negative.values())\n",
    "\n",
    "#     likelihood_positive = calculate_likelihood(word_count_positive, total_positive_words)\n",
    "#     likelihood_negative = calculate_likelihood(word_count_negative, total_negative_words)\n",
    "\n",
    "#     positive = calculate_log_prior('positive', train)\n",
    "#     negative = calculate_log_prior('negative', train)\n",
    "\n",
    "#     log_likelihood_positive = {word: math.log(prob) for word, prob in likelihood_positive.items()}\n",
    "#     log_likelihood_negative = {word: math.log(prob) for word, prob in likelihood_negative.items()}\n",
    "\n",
    "\n",
    "#     ###############################################\n",
    "#     #PREDICT#\n",
    "#     ###############################################\n",
    "\n",
    "\n",
    "#     correct_predictions = 0\n",
    "#     total_predictions = len(test)\n",
    "#     y_pred = []\n",
    "\n",
    "#     for index, row in test.iterrows():\n",
    "#         predicted_sentiment, sentiment_scores = classify_review_with_scores(\n",
    "#             row['review'], log_likelihood_positive, log_likelihood_negative,\n",
    "#             positive, negative,\n",
    "#         )\n",
    "#         y_pred.append(predicted_sentiment)\n",
    "        \n",
    "        \n",
    "#     ## METRICS\n",
    "#     precision = precision_score(test['sentiment'], y_pred,average='macro')\n",
    "#     accuracy = accuracy_score(test['sentiment'], y_pred)\n",
    "    \n",
    "#     score[i] = {\"precision\": precision, \"accuracy\": accuracy}\n",
    "    \n",
    "# with open('results.json', 'w') as f:\n",
    "#     json.dump(score, f)"
   ]
  },
  {
   "cell_type": "code",
   "execution_count": 32,
   "id": "7a3c0e74",
   "metadata": {},
   "outputs": [
    {
     "data": {
      "image/png": "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",
      "text/plain": [
       "<Figure size 640x480 with 1 Axes>"
      ]
     },
     "metadata": {},
     "output_type": "display_data"
    }
   ],
   "source": [
    "import json\n",
    "import matplotlib.pyplot as plt\n",
    "import numpy as np\n",
    "\n",
    "# Open and read the JSON file\n",
    "with open('results.json', 'r') as file:\n",
    "    data = json.load(file)\n",
    "\n",
    "# Print the data\n",
    "numInteractions = list(data.keys())\n",
    "lstPrecision = list()\n",
    "for i in data:\n",
    "    lstPrecision.append(data[i][\"accuracy\"])\n",
    "    \n",
    "xpoints = np.array(numInteractions)\n",
    "ypoints = np.array(lstPrecision)\n",
    "\n",
    "# plt.plot(xpoints, ypoints)\n",
    "fig, ax = plt.subplots()\n",
    "ax.plot(xpoints, ypoints, **{'color': 'blue', 'marker': 'o'})\n",
    "plt.axis([-0.2, 8.5, 0, 0.9])\n",
    "for i, txt in enumerate(ypoints):\n",
    "    ax.annotate(f\"{txt:.2f}\", (xpoints[i], ypoints[i]+ 0.02))\n",
    "plt.xlabel(\"Numbers of Reviews\")\n",
    "plt.ylabel(\"Accuracy\")\n",
    "plt.savefig(\"Number of interactions\")\n",
    "# plt.show()"
   ]
  }
 ],
 "metadata": {
  "kernelspec": {
   "display_name": ".venv",
   "language": "python",
   "name": "python3"
  },
  "language_info": {
   "codemirror_mode": {
    "name": "ipython",
    "version": 3
   },
   "file_extension": ".py",
   "mimetype": "text/x-python",
   "name": "python",
   "nbconvert_exporter": "python",
   "pygments_lexer": "ipython3",
   "version": "3.13.3"
  }
 },
 "nbformat": 4,
 "nbformat_minor": 5
}
>>>>>>> 9e7d5718bda85efbc2b0aa5346e0385b022bb86f
