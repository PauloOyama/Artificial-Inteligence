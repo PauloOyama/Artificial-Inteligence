version https://git-lfs.github.com/spec/v1
oid sha256:5486467a9808ed617c1b85f594b10c05cc4d884ab09d40a9d3a2091523f41f66
size 72044
