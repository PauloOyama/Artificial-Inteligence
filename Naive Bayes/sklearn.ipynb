version https://git-lfs.github.com/spec/v1
oid sha256:7f16569ff5458134b4cd42876d05efc0acae7dce827c8a553e8b083fbfebdf27
size 20800
