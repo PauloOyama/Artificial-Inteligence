{
 "cells": [
  {
   "cell_type": "code",
   "execution_count": 2,
   "id": "5ccd1c7b",
   "metadata": {},
   "outputs": [
    {
     "name": "stdout",
     "output_type": "stream",
     "text": [
      "Collecting nltk\n",
      "  Downloading nltk-3.9.1-py3-none-any.whl.metadata (2.9 kB)\n",
      "Collecting click (from nltk)\n",
      "  Downloading click-8.1.8-py3-none-any.whl.metadata (2.3 kB)\n",
      "Requirement already satisfied: joblib in c:\\users\\papal\\appdata\\local\\programs\\python\\python39\\lib\\site-packages (from nltk) (1.5.1)\n",
      "Requirement already satisfied: regex>=2021.8.3 in c:\\users\\papal\\appdata\\local\\programs\\python\\python39\\lib\\site-packages (from nltk) (2024.11.6)\n",
      "Requirement already satisfied: tqdm in c:\\users\\papal\\appdata\\local\\programs\\python\\python39\\lib\\site-packages (from nltk) (4.67.1)\n",
      "Requirement already satisfied: colorama in c:\\users\\papal\\appdata\\roaming\\python\\python39\\site-packages (from click->nltk) (0.4.6)\n",
      "Downloading nltk-3.9.1-py3-none-any.whl (1.5 MB)\n",
      "   ---------------------------------------- 0.0/1.5 MB ? eta -:--:--\n",
      "   ---------------------------------------- 1.5/1.5 MB 9.9 MB/s eta 0:00:00\n",
      "Downloading click-8.1.8-py3-none-any.whl (98 kB)\n",
      "Installing collected packages: click, nltk\n",
      "\n",
      "   ---------------------------------------- 0/2 [click]\n",
      "   -------------------- ------------------- 1/2 [nltk]\n",
      "   -------------------- ------------------- 1/2 [nltk]\n",
      "   -------------------- ------------------- 1/2 [nltk]\n",
      "   -------------------- ------------------- 1/2 [nltk]\n",
      "   -------------------- ------------------- 1/2 [nltk]\n",
      "   -------------------- ------------------- 1/2 [nltk]\n",
      "   -------------------- ------------------- 1/2 [nltk]\n",
      "   -------------------- ------------------- 1/2 [nltk]\n",
      "   -------------------- ------------------- 1/2 [nltk]\n",
      "   -------------------- ------------------- 1/2 [nltk]\n",
      "   -------------------- ------------------- 1/2 [nltk]\n",
      "   -------------------- ------------------- 1/2 [nltk]\n",
      "   -------------------- ------------------- 1/2 [nltk]\n",
      "   -------------------- ------------------- 1/2 [nltk]\n",
      "   -------------------- ------------------- 1/2 [nltk]\n",
      "   -------------------- ------------------- 1/2 [nltk]\n",
      "   -------------------- ------------------- 1/2 [nltk]\n",
      "   -------------------- ------------------- 1/2 [nltk]\n",
      "   -------------------- ------------------- 1/2 [nltk]\n",
      "   -------------------- ------------------- 1/2 [nltk]\n",
      "   -------------------- ------------------- 1/2 [nltk]\n",
      "   -------------------- ------------------- 1/2 [nltk]\n",
      "   -------------------- ------------------- 1/2 [nltk]\n",
      "   -------------------- ------------------- 1/2 [nltk]\n",
      "   -------------------- ------------------- 1/2 [nltk]\n",
      "   -------------------- ------------------- 1/2 [nltk]\n",
      "   -------------------- ------------------- 1/2 [nltk]\n",
      "   -------------------- ------------------- 1/2 [nltk]\n",
      "   -------------------- ------------------- 1/2 [nltk]\n",
      "   -------------------- ------------------- 1/2 [nltk]\n",
      "   -------------------- ------------------- 1/2 [nltk]\n",
      "   -------------------- ------------------- 1/2 [nltk]\n",
      "   -------------------- ------------------- 1/2 [nltk]\n",
      "   -------------------- ------------------- 1/2 [nltk]\n",
      "   -------------------- ------------------- 1/2 [nltk]\n",
      "   -------------------- ------------------- 1/2 [nltk]\n",
      "   -------------------- ------------------- 1/2 [nltk]\n",
      "   -------------------- ------------------- 1/2 [nltk]\n",
      "   -------------------- ------------------- 1/2 [nltk]\n",
      "   -------------------- ------------------- 1/2 [nltk]\n",
      "   -------------------- ------------------- 1/2 [nltk]\n",
      "   ---------------------------------------- 2/2 [nltk]\n",
      "\n",
      "Successfully installed click-8.1.8 nltk-3.9.1\n",
      "Note: you may need to restart the kernel to use updated packages.\n",
      "Requirement already satisfied: scikit-learn in c:\\users\\papal\\appdata\\local\\programs\\python\\python39\\lib\\site-packages (1.6.1)\n",
      "Requirement already satisfied: numpy>=1.19.5 in c:\\users\\papal\\appdata\\local\\programs\\python\\python39\\lib\\site-packages (from scikit-learn) (2.0.2)\n",
      "Requirement already satisfied: scipy>=1.6.0 in c:\\users\\papal\\appdata\\local\\programs\\python\\python39\\lib\\site-packages (from scikit-learn) (1.13.1)\n",
      "Requirement already satisfied: joblib>=1.2.0 in c:\\users\\papal\\appdata\\local\\programs\\python\\python39\\lib\\site-packages (from scikit-learn) (1.5.1)\n",
      "Requirement already satisfied: threadpoolctl>=3.1.0 in c:\\users\\papal\\appdata\\local\\programs\\python\\python39\\lib\\site-packages (from scikit-learn) (3.6.0)\n",
      "Note: you may need to restart the kernel to use updated packages.\n",
      "Collecting beautifulsoup4\n",
      "  Downloading beautifulsoup4-4.13.4-py3-none-any.whl.metadata (3.8 kB)\n",
      "Collecting soupsieve>1.2 (from beautifulsoup4)\n",
      "  Downloading soupsieve-2.7-py3-none-any.whl.metadata (4.6 kB)\n",
      "Requirement already satisfied: typing-extensions>=4.0.0 in c:\\users\\papal\\appdata\\roaming\\python\\python39\\site-packages (from beautifulsoup4) (4.14.0)\n",
      "Downloading beautifulsoup4-4.13.4-py3-none-any.whl (187 kB)\n",
      "Downloading soupsieve-2.7-py3-none-any.whl (36 kB)\n",
      "Installing collected packages: soupsieve, beautifulsoup4\n",
      "\n",
      "   -------------------- ------------------- 1/2 [beautifulsoup4]\n",
      "   -------------------- ------------------- 1/2 [beautifulsoup4]\n",
      "   -------------------- ------------------- 1/2 [beautifulsoup4]\n",
      "   -------------------- ------------------- 1/2 [beautifulsoup4]\n",
      "   -------------------- ------------------- 1/2 [beautifulsoup4]\n",
      "   ---------------------------------------- 2/2 [beautifulsoup4]\n",
      "\n",
      "Successfully installed beautifulsoup4-4.13.4 soupsieve-2.7\n",
      "Note: you may need to restart the kernel to use updated packages.\n",
      "Requirement already satisfied: seaborn in c:\\users\\papal\\appdata\\local\\programs\\python\\python39\\lib\\site-packages (0.13.2)\n",
      "Requirement already satisfied: numpy!=1.24.0,>=1.20 in c:\\users\\papal\\appdata\\local\\programs\\python\\python39\\lib\\site-packages (from seaborn) (2.0.2)\n",
      "Requirement already satisfied: pandas>=1.2 in c:\\users\\papal\\appdata\\local\\programs\\python\\python39\\lib\\site-packages (from seaborn) (2.2.3)\n",
      "Requirement already satisfied: matplotlib!=3.6.1,>=3.4 in c:\\users\\papal\\appdata\\local\\programs\\python\\python39\\lib\\site-packages (from seaborn) (3.9.4)\n",
      "Requirement already satisfied: contourpy>=1.0.1 in c:\\users\\papal\\appdata\\local\\programs\\python\\python39\\lib\\site-packages (from matplotlib!=3.6.1,>=3.4->seaborn) (1.3.0)\n",
      "Requirement already satisfied: cycler>=0.10 in c:\\users\\papal\\appdata\\local\\programs\\python\\python39\\lib\\site-packages (from matplotlib!=3.6.1,>=3.4->seaborn) (0.12.1)\n",
      "Requirement already satisfied: fonttools>=4.22.0 in c:\\users\\papal\\appdata\\local\\programs\\python\\python39\\lib\\site-packages (from matplotlib!=3.6.1,>=3.4->seaborn) (4.58.1)\n",
      "Requirement already satisfied: kiwisolver>=1.3.1 in c:\\users\\papal\\appdata\\local\\programs\\python\\python39\\lib\\site-packages (from matplotlib!=3.6.1,>=3.4->seaborn) (1.4.7)\n",
      "Requirement already satisfied: packaging>=20.0 in c:\\users\\papal\\appdata\\roaming\\python\\python39\\site-packages (from matplotlib!=3.6.1,>=3.4->seaborn) (25.0)\n",
      "Requirement already satisfied: pillow>=8 in c:\\users\\papal\\appdata\\local\\programs\\python\\python39\\lib\\site-packages (from matplotlib!=3.6.1,>=3.4->seaborn) (11.2.1)\n",
      "Requirement already satisfied: pyparsing>=2.3.1 in c:\\users\\papal\\appdata\\local\\programs\\python\\python39\\lib\\site-packages (from matplotlib!=3.6.1,>=3.4->seaborn) (3.2.3)\n",
      "Requirement already satisfied: python-dateutil>=2.7 in c:\\users\\papal\\appdata\\roaming\\python\\python39\\site-packages (from matplotlib!=3.6.1,>=3.4->seaborn) (2.9.0.post0)\n",
      "Requirement already satisfied: importlib-resources>=3.2.0 in c:\\users\\papal\\appdata\\local\\programs\\python\\python39\\lib\\site-packages (from matplotlib!=3.6.1,>=3.4->seaborn) (6.5.2)\n",
      "Requirement already satisfied: zipp>=3.1.0 in c:\\users\\papal\\appdata\\roaming\\python\\python39\\site-packages (from importlib-resources>=3.2.0->matplotlib!=3.6.1,>=3.4->seaborn) (3.22.0)\n",
      "Requirement already satisfied: pytz>=2020.1 in c:\\users\\papal\\appdata\\local\\programs\\python\\python39\\lib\\site-packages (from pandas>=1.2->seaborn) (2025.2)\n",
      "Requirement already satisfied: tzdata>=2022.7 in c:\\users\\papal\\appdata\\local\\programs\\python\\python39\\lib\\site-packages (from pandas>=1.2->seaborn) (2025.2)\n",
      "Requirement already satisfied: six>=1.5 in c:\\users\\papal\\appdata\\roaming\\python\\python39\\site-packages (from python-dateutil>=2.7->matplotlib!=3.6.1,>=3.4->seaborn) (1.17.0)\n",
      "Note: you may need to restart the kernel to use updated packages.\n"
     ]
    }
   ],
   "source": [
    "\n",
    "%pip install --user -U nltk\n",
    "%pip install -U scikit-learn\n",
    "%pip install beautifulsoup4\n",
    "%pip install seaborn"
   ]
  },
  {
   "cell_type": "code",
   "execution_count": 1,
   "id": "754cd2a5",
   "metadata": {},
   "outputs": [],
   "source": [
    "import nltk\n",
    "import pandas as pd\n",
    "from sklearn.model_selection import train_test_split     \n",
    "from nltk.tokenize import ToktokTokenizer    \n",
    "from nltk.stem import WordNetLemmatizer\n",
    "import string\n",
    "from bs4 import BeautifulSoup     \n",
    "from nltk.tokenize import word_tokenize    \n",
    "from nltk.corpus import stopwords \n",
    "import re            \n",
    "from sklearn.naive_bayes import MultinomialNB\n",
    "from sklearn.feature_extraction.text import CountVectorizer, TfidfVectorizer\n",
    "from sklearn.linear_model import LogisticRegression,SGDClassifier\n",
    "from sklearn.metrics import accuracy_score,classification_report,confusion_matrix,precision_score, f1_score, recall_score\n",
    "import seaborn as sns\n",
    "import matplotlib.pyplot as plt "
   ]
  },
  {
   "cell_type": "code",
   "execution_count": 2,
   "id": "79f349b5",
   "metadata": {},
   "outputs": [
    {
     "name": "stderr",
     "output_type": "stream",
     "text": [
      "[nltk_data] Downloading package stopwords to\n",
      "[nltk_data]     C:\\Users\\papal\\AppData\\Roaming\\nltk_data...\n",
      "[nltk_data]   Package stopwords is already up-to-date!\n"
     ]
    },
    {
     "data": {
      "text/plain": [
       "True"
      ]
     },
     "execution_count": 2,
     "metadata": {},
     "output_type": "execute_result"
    }
   ],
   "source": [
    "nltk.download(\"stopwords\")\n"
   ]
  },
  {
   "cell_type": "code",
   "execution_count": null,
   "id": "f94dec04",
   "metadata": {},
   "outputs": [
    {
     "data": {
      "text/plain": [
       "<WordListCorpusReader in 'C:\\\\Users\\\\papal\\\\AppData\\\\Roaming\\\\nltk_data\\\\corpora\\\\stopwords'>"
      ]
     },
     "execution_count": 3,
     "metadata": {},
     "output_type": "execute_result"
    }
   ],
   "source": [
    "stopwords"
   ]
  },
  {
   "cell_type": "code",
   "execution_count": null,
   "id": "82e87579",
   "metadata": {},
   "outputs": [],
   "source": [
    "df = pd.read_csv(\"./data/TwitterRenamed.csv\")"
   ]
  },
  {
   "cell_type": "code",
   "execution_count": 7,
   "id": "06cf3fe8",
   "metadata": {},
   "outputs": [
    {
     "data": {
      "text/plain": [
       "Index(['Unnamed: 0', 'sentiment', 'id of the tweet', 'date of the tweet',\n",
       "       'query', 'user', 'review'],\n",
       "      dtype='object')"
      ]
     },
     "execution_count": 7,
     "metadata": {},
     "output_type": "execute_result"
    }
   ],
   "source": [
    "df.columns"
   ]
  },
  {
   "cell_type": "code",
   "execution_count": 17,
   "id": "1c6a2da3",
   "metadata": {},
   "outputs": [
    {
     "data": {
      "image/png": "[encoded data removed]",
      "text/plain": [
       "<Figure size 640x480 with 1 Axes>"
      ]
     },
     "metadata": {},
     "output_type": "display_data"
    }
   ],
   "source": [
    "df.groupby(['sentiment'])['sentiment'].count().plot(kind='bar')\n",
    "plt.savefig('Classes.png')"
   ]
  },
  {
   "cell_type": "code",
   "execution_count": 24,
   "id": "8a38ca8b",
   "metadata": {},
   "outputs": [],
   "source": [
    "df['Tamanho dos comentários'] = df['review'].apply(len)"
   ]
  },
  {
   "cell_type": "code",
   "execution_count": 26,
   "id": "919d3949",
   "metadata": {},
   "outputs": [
    {
     "data": {
      "image/png": "[encoded data removed]",
      "text/plain": [
       "<Figure size 640x480 with 1 Axes>"
      ]
     },
     "metadata": {},
     "output_type": "display_data"
    }
   ],
   "source": [
    "df.boxplot(column=['Tamanho dos comentários'])\n",
    "plt.savefig(\"comentários.png\")"
   ]
  },
  {
   "cell_type": "code",
   "execution_count": 27,
   "id": "53f41f18",
   "metadata": {},
   "outputs": [],
   "source": [
    "df = df[['sentiment','review']]"
   ]
  },
  {
   "cell_type": "code",
   "execution_count": null,
   "id": "00e5c71c",
   "metadata": {},
   "outputs": [
    {
     "data": {
      "text/plain": [
       "('I LOVE @Health4UandPets u guys r the best!! ', np.int64(1))"
      ]
     },
     "execution_count": 36,
     "metadata": {},
     "output_type": "execute_result"
    }
   ],
   "source": [
    "# df['review'][0],df['sentiment'][0]\n",
    "# df['review'][799996],df['sentiment'][799996]"
   ]
  },
  {
   "cell_type": "markdown",
   "id": "ad11dcf4",
   "metadata": {},
   "source": [
    "# Checando os dados"
   ]
  },
  {
   "cell_type": "code",
   "execution_count": null,
   "id": "6c3a444d",
   "metadata": {},
   "outputs": [
    {
     "data": {
      "text/plain": [
       "sentiment\n",
       "0    799996\n",
       "1    248576\n",
       "Name: count, dtype: int64"
      ]
     },
     "execution_count": 182,
     "metadata": {},
     "output_type": "execute_result"
    }
   ],
   "source": [
    "df['sentiment'].value_counts()"
   ]
  },
  {
   "cell_type": "markdown",
   "id": "ad8b9b50",
   "metadata": {},
   "source": [
    "Stratified Sample"
   ]
  },
  {
   "cell_type": "code",
   "execution_count": null,
   "id": "697505d2",
   "metadata": {},
   "outputs": [],
   "source": [
    "stratified = df[df['sentiment']==1]['review'].count()\n",
    "train_positive = df[df['sentiment']==1].sample(stratified*8//10)\n",
    "test_positive =  df[df['sentiment']==1].drop(train_positive.index)"
   ]
  },
  {
   "cell_type": "code",
   "execution_count": null,
   "id": "9ebb31b0",
   "metadata": {},
   "outputs": [
    {
     "data": {
      "text/plain": [
       "((198860, 2), (49716, 2))"
      ]
     },
     "execution_count": 184,
     "metadata": {},
     "output_type": "execute_result"
    }
   ],
   "source": [
    "train_positive.shape,test_positive.shape"
   ]
  },
  {
   "cell_type": "code",
   "execution_count": null,
   "id": "00a1ac18",
   "metadata": {},
   "outputs": [],
   "source": [
    "train_negative = df[df['sentiment']==0].sample(stratified*8//10)\n",
    "test_negative =  df[df['sentiment']==0].drop(train_negative.index)"
   ]
  },
  {
   "cell_type": "code",
   "execution_count": null,
   "id": "f09eabe3",
   "metadata": {},
   "outputs": [
    {
     "data": {
      "text/plain": [
       "((198860, 2), (601136, 2))"
      ]
     },
     "execution_count": 186,
     "metadata": {},
     "output_type": "execute_result"
    }
   ],
   "source": [
    "train_negative.shape, test_negative.shape"
   ]
  },
  {
   "cell_type": "markdown",
   "id": "9298dbc9",
   "metadata": {},
   "source": [
    "## Unindo as amostras estratificadas"
   ]
  },
  {
   "cell_type": "code",
   "execution_count": null,
   "id": "896bdf41",
   "metadata": {},
   "outputs": [],
   "source": [
    "train = pd.concat([train_positive,train_negative],ignore_index=True)\n",
    "test = pd.concat([test_positive,test_negative],ignore_index=True)"
   ]
  },
  {
   "cell_type": "markdown",
   "id": "f328d1f5",
   "metadata": {},
   "source": [
    "Verificando se foi trazida com a porcentagem igual"
   ]
  },
  {
   "cell_type": "code",
   "execution_count": null,
   "id": "1a7294ed",
   "metadata": {},
   "outputs": [
    {
     "data": {
      "text/plain": [
       "sentiment\n",
       "1    198860\n",
       "0    198860\n",
       "Name: count, dtype: int64"
      ]
     },
     "execution_count": 188,
     "metadata": {},
     "output_type": "execute_result"
    }
   ],
   "source": [
    "train['sentiment'].value_counts()"
   ]
  },
  {
   "cell_type": "markdown",
   "id": "6f4c3429",
   "metadata": {},
   "source": [
    "Discomment if you want a sample of all dataset"
   ]
  },
  {
   "cell_type": "code",
   "execution_count": null,
   "id": "603b3c32",
   "metadata": {},
   "outputs": [],
   "source": [
    "# train = train.sample(10000)\n",
    "# test = test.sample(5000)"
   ]
  },
  {
   "cell_type": "markdown",
   "id": "e0ce8ab3",
   "metadata": {},
   "source": [
    "# Limpeza e Pre Processamento dos dados"
   ]
  },
  {
   "cell_type": "code",
   "execution_count": null,
   "id": "b5e990d9",
   "metadata": {},
   "outputs": [],
   "source": [
    "def preprocess_text(text:str):\n",
    "    \n",
    "    text = text.translate(str.maketrans(\"\", \"\", string.punctuation))\n",
    "    \n",
    "    tokens = word_tokenize(text.lower())\n",
    "\n",
    "    filtered_tokens = [token for token in tokens if token not in stopwords.words('english')]\n",
    "\n",
    "    stemmer =  nltk.PorterStemmer()\n",
    "    \n",
    "    stopwords_set = set(stopwords.words(\"english\"))\n",
    "    \n",
    "    tokens_2 = [stemmer.stem(token) for token in filtered_tokens if token not in stopwords_set]\n",
    "\n",
    "    return tokens_2"
   ]
  },
  {
   "cell_type": "code",
   "execution_count": null,
   "id": "84fadf30",
   "metadata": {},
   "outputs": [
    {
     "name": "stderr",
     "output_type": "stream",
     "text": [
      "<>:6: SyntaxWarning: invalid escape sequence '\\('\n",
      "<>:6: SyntaxWarning: invalid escape sequence '\\('\n",
      "C:\\Users\\papal\\AppData\\Local\\Temp\\ipykernel_4444\\307135772.py:6: SyntaxWarning: invalid escape sequence '\\('\n",
      "  return re.sub('[\\(\\[].*?[\\)\\]]','',text)\n"
     ]
    }
   ],
   "source": [
    "def strip(text):\n",
    "    soup = BeautifulSoup(text,'html.parser')\n",
    "    return soup.get_text()\n",
    "\n",
    "def rm_square(text):\n",
    "    return re.sub('[\\(\\[].*?[\\)\\]]','',text)\n",
    "\n",
    "def denoise(text):\n",
    "    text = strip(text)\n",
    "    text = rm_square(text)\n",
    "    return text\n",
    "\n",
    "train['review'] = train['review'].apply(denoise)\n",
    "test['review'] = test['review'].apply(denoise)"
   ]
  },
  {
   "cell_type": "code",
   "execution_count": null,
   "id": "1e7c856e",
   "metadata": {},
   "outputs": [
    {
     "name": "stderr",
     "output_type": "stream",
     "text": [
      "<>:2: SyntaxWarning: invalid escape sequence '\\s'\n",
      "<>:2: SyntaxWarning: invalid escape sequence '\\s'\n",
      "C:\\Users\\papal\\AppData\\Local\\Temp\\ipykernel_4444\\3303347500.py:2: SyntaxWarning: invalid escape sequence '\\s'\n",
      "  return re.sub('[^A-Za-z\\s]+','',text)\n"
     ]
    }
   ],
   "source": [
    "def remove_special(text):\n",
    "    return re.sub('[^A-Za-z\\s]+','',text)\n",
    "\n",
    "train['review'] = train['review'].apply(remove_special)\n",
    "test['review'] = test['review'].apply(remove_special)"
   ]
  },
  {
   "cell_type": "code",
   "execution_count": null,
   "id": "ca16d1dd",
   "metadata": {},
   "outputs": [],
   "source": [
    "def stemming(text:str):\n",
    "    port = nltk.PorterStemmer()\n",
    "    text = ' '.join([port.stem(wd) for wd in text.split()])\n",
    "    return text\n",
    "\n",
    "train['review'] = train['review'].apply(stemming)\n",
    "test['review'] = test['review'].apply(stemming)"
   ]
  },
  {
   "cell_type": "code",
   "execution_count": null,
   "id": "dad6f378",
   "metadata": {},
   "outputs": [
    {
     "data": {
      "text/plain": [
       "0                   tommcfli see some funni video on youtub\n",
       "1                              conversee on foot xd so cute\n",
       "2         made taco for dinner now a frosti and twilight...\n",
       "3         itsmeduh woop doin it real big i see have more...\n",
       "4         georgieboo it wa a littl while ago but wossi a...\n",
       "                                ...                        \n",
       "397715    time to sleep sadli the man i want to have in ...\n",
       "397716    i need a nap but i dont like take nap alon im ...\n",
       "397717    india lost it again i need not be disappoint a...\n",
       "397718    in school all alon ct off for report write day...\n",
       "397719     dougiemcfli katpoynt i love you lol i wishh haha\n",
       "Name: review, Length: 397720, dtype: object"
      ]
     },
     "execution_count": 194,
     "metadata": {},
     "output_type": "execute_result"
    }
   ],
   "source": [
    "train['review']"
   ]
  },
  {
   "cell_type": "markdown",
   "id": "ba8858fa",
   "metadata": {},
   "source": [
    "# Treinando por Bag Of Words e Table Frequency"
   ]
  },
  {
   "cell_type": "code",
   "execution_count": null,
   "id": "a8812300",
   "metadata": {},
   "outputs": [],
   "source": [
    "results = dict()"
   ]
  },
  {
   "cell_type": "markdown",
   "id": "41510fb9",
   "metadata": {},
   "source": [
    "### Bag of Words"
   ]
  },
  {
   "cell_type": "code",
   "execution_count": null,
   "id": "d8edffd8",
   "metadata": {},
   "outputs": [],
   "source": [
    "cv = CountVectorizer(min_df=1,binary=False,ngram_range=(1,3))\n",
    "\n",
    "cv_train = cv.fit_transform(train[ 'review'])\n",
    "cv_test = cv.transform(test[ 'review'])"
   ]
  },
  {
   "cell_type": "code",
   "execution_count": null,
   "id": "8b594af0",
   "metadata": {},
   "outputs": [
    {
     "data": {
      "text/plain": [
       "((397720, 4321977), (650852, 4321977))"
      ]
     },
     "execution_count": 197,
     "metadata": {},
     "output_type": "execute_result"
    }
   ],
   "source": [
    "cv_train.shape,cv_test.shape"
   ]
  },
  {
   "cell_type": "markdown",
   "id": "a7fef493",
   "metadata": {},
   "source": [
    "### Table Frequency"
   ]
  },
  {
   "cell_type": "code",
   "execution_count": null,
   "id": "b057a132",
   "metadata": {},
   "outputs": [],
   "source": [
    "tv = TfidfVectorizer(min_df=1,use_idf=True,ngram_range=(1,3))\n",
    "\n",
    "tv_train = tv.fit_transform(train['review'])\n",
    "tv_test = tv.transform(test['review'])"
   ]
  },
  {
   "cell_type": "code",
   "execution_count": null,
   "id": "1ddcc0b0",
   "metadata": {},
   "outputs": [
    {
     "data": {
      "text/plain": [
       "((397720, 4321977), (650852, 4321977))"
      ]
     },
     "execution_count": 199,
     "metadata": {},
     "output_type": "execute_result"
    }
   ],
   "source": [
    "tv_train.shape,tv_test.shape"
   ]
  },
  {
   "cell_type": "markdown",
   "id": "b1344ff9",
   "metadata": {},
   "source": [
    "# 1 - Modelo Logistic Regression"
   ]
  },
  {
   "cell_type": "code",
   "execution_count": null,
   "id": "cd5a8b4d",
   "metadata": {},
   "outputs": [
    {
     "name": "stdout",
     "output_type": "stream",
     "text": [
      "LogisticRegression(C=1, max_iter=500, random_state=42)\n",
      "LogisticRegression(C=1, max_iter=500, random_state=42)\n"
     ]
    }
   ],
   "source": [
    "lr =LogisticRegression(penalty='l2',max_iter=500,C=1,random_state=42)\n",
    "\n",
    "lr_bow = lr.fit(cv_train,train['sentiment'])\n",
    "lr_tv = lr.fit(tv_train,train['sentiment'])\n",
    "print(lr_bow)\n",
    "print(lr_tv)"
   ]
  },
  {
   "cell_type": "code",
   "execution_count": null,
   "id": "effe5d5c",
   "metadata": {},
   "outputs": [
    {
     "name": "stdout",
     "output_type": "stream",
     "text": [
      "[0 0 1 ... 0 1 0]\n",
      "[0 1 1 ... 0 1 0]\n"
     ]
    }
   ],
   "source": [
    "lr_bow_predict = lr_bow.predict(cv_test)\n",
    "print(lr_bow_predict)\n",
    "\n",
    "lr_tf_predict = lr_tv.predict(tv_test)\n",
    "print(lr_tf_predict)"
   ]
  },
  {
   "cell_type": "code",
   "execution_count": null,
   "id": "dadd6c24",
   "metadata": {},
   "outputs": [],
   "source": [
    "results['Logistic Regression'] = {\n",
    "    'Bag Of Words' : {\n",
    "        'acc': accuracy_score(test['sentiment'],lr_bow_predict),\n",
    "        'precision': precision_score(test['sentiment'],lr_bow_predict),\n",
    "        'recal': recall_score(test['sentiment'],lr_bow_predict),\n",
    "        'f1_score': f1_score(test['sentiment'],lr_bow_predict)\n",
    "    },\n",
    "    'Table Frequency' : {\n",
    "        'acc': accuracy_score(test['sentiment'],lr_tf_predict),\n",
    "        'precision': precision_score(test['sentiment'],lr_tf_predict),\n",
    "        'recal': recall_score(test['sentiment'],lr_tf_predict),\n",
    "        'f1_score': f1_score(test['sentiment'],lr_tf_predict)\n",
    "    }\n",
    "}"
   ]
  },
  {
   "cell_type": "code",
   "execution_count": null,
   "id": "04f6537a",
   "metadata": {},
   "outputs": [
    {
     "name": "stdout",
     "output_type": "stream",
     "text": [
      "Bag Of Words =  0.876592527947982\n",
      "Table =  0.826123296847824\n"
     ]
    }
   ],
   "source": [
    "lr_bow_acc = accuracy_score(test['sentiment'],lr_bow_predict)\n",
    "print(\"Bag Of Words = \",lr_bow_acc)\n",
    "lr_tf_acc = accuracy_score(test['sentiment'],lr_tf_predict)\n",
    "print(\"Table = \",lr_tf_acc )"
   ]
  },
  {
   "cell_type": "code",
   "execution_count": null,
   "id": "7b3f633e",
   "metadata": {},
   "outputs": [
    {
     "name": "stdout",
     "output_type": "stream",
     "text": [
      "<class 'str'>\n"
     ]
    }
   ],
   "source": [
    "lr_trdf_report = classification_report(test['sentiment'],lr_bow_predict,target_names=['Positive','Negative'])\n",
    "print(type(lr_trdf_report))"
   ]
  },
  {
   "cell_type": "code",
   "execution_count": null,
   "id": "9d2db1f5",
   "metadata": {},
   "outputs": [
    {
     "name": "stdout",
     "output_type": "stream",
     "text": [
      "[[538520  62616]\n",
      " [ 17704  32012]]\n",
      "[[498483 102653]\n",
      " [ 10515  39201]]\n"
     ]
    },
    {
     "data": {
      "image/png": "[encoded data removed]",
      "text/plain": [
       "<Figure size 640x480 with 2 Axes>"
      ]
     },
     "metadata": {},
     "output_type": "display_data"
    },
    {
     "data": {
      "image/png": "[encoded data removed]",
      "text/plain": [
       "<Figure size 640x480 with 2 Axes>"
      ]
     },
     "metadata": {},
     "output_type": "display_data"
    }
   ],
   "source": [
    "cm_bow = confusion_matrix(test['sentiment'],lr_bow_predict,labels=[0,1])\n",
    "print(cm_bow)\n",
    "tf_bow = confusion_matrix(test['sentiment'],lr_tf_predict,labels=[0,1])\n",
    "print(tf_bow)\n",
    "\n",
    "sns.heatmap(cm_bow,annot=True, fmt='d', cmap='Blues')\n",
    "plt.xlabel(\"Predição\")\n",
    "plt.ylabel(\"Real\")\n",
    "plt.title(\"Logistic Regresion - BOW\")\n",
    "plt.savefig('Logistic_Regresion_BOW.png')\n",
    "plt.show()\n",
    "\n",
    "sns.heatmap(tf_bow,annot=True, fmt='d', cmap='Blues')\n",
    "plt.xlabel(\"Predição\")\n",
    "plt.ylabel(\"Real\")\n",
    "plt.title(\"Logistic Regresion - Table Frequency\")\n",
    "plt.savefig('Logistic_Regresion_TFID.png')\n",
    "plt.show()"
   ]
  },
  {
   "cell_type": "markdown",
   "id": "5bf627ee",
   "metadata": {},
   "source": [
    "## Stochastic Gradient Descent"
   ]
  },
  {
   "cell_type": "code",
   "execution_count": null,
   "id": "11fe6af0",
   "metadata": {},
   "outputs": [
    {
     "name": "stdout",
     "output_type": "stream",
     "text": [
      "SGDClassifier(max_iter=500, random_state=42)\n",
      "SGDClassifier(max_iter=500, random_state=42)\n"
     ]
    }
   ],
   "source": [
    "svm = SGDClassifier(loss='hinge',max_iter=500,random_state=42)\n",
    "\n",
    "svm_bow = svm.fit(cv_train,train['sentiment'])\n",
    "svm_tv = svm.fit(tv_train,train['sentiment'])\n",
    "print(svm_bow)\n",
    "print(svm_tv)"
   ]
  },
  {
   "cell_type": "code",
   "execution_count": null,
   "id": "b47e49b9",
   "metadata": {},
   "outputs": [
    {
     "name": "stdout",
     "output_type": "stream",
     "text": [
      "[0 0 1 ... 0 1 0]\n",
      "[0 1 1 ... 0 1 0]\n"
     ]
    }
   ],
   "source": [
    "svm_bow_predict = svm_bow.predict(cv_test)\n",
    "print(svm_bow_predict)\n",
    "\n",
    "svm_tf_predict = svm_tv.predict(tv_test)\n",
    "print(svm_tf_predict)"
   ]
  },
  {
   "cell_type": "code",
   "execution_count": null,
   "id": "73e61864",
   "metadata": {},
   "outputs": [],
   "source": [
    "results['SVM'] = {\n",
    "    'Bag Of Words' : {\n",
    "        'acc': accuracy_score(test['sentiment'],svm_bow_predict),\n",
    "        'precision': precision_score(test['sentiment'],svm_bow_predict),\n",
    "        'recal': recall_score(test['sentiment'],svm_bow_predict),\n",
    "        'f1_score': f1_score(test['sentiment'],svm_bow_predict)\n",
    "    },\n",
    "    'Table Frequency' : {\n",
    "        'acc': accuracy_score(test['sentiment'],svm_tf_predict),\n",
    "        'precision': precision_score(test['sentiment'],svm_tf_predict),\n",
    "        'recal': recall_score(test['sentiment'],svm_tf_predict),\n",
    "        'f1_score': f1_score(test['sentiment'],svm_tf_predict)\n",
    "    }\n",
    "}"
   ]
  },
  {
   "cell_type": "code",
   "execution_count": null,
   "id": "7fd858a8",
   "metadata": {},
   "outputs": [
    {
     "name": "stdout",
     "output_type": "stream",
     "text": [
      "Bag Of Words =  0.8633375944147057\n",
      "Table =  0.7901873236926368\n"
     ]
    }
   ],
   "source": [
    "svm_bow_acc = accuracy_score(test['sentiment'],svm_bow_predict)\n",
    "print(\"Bag Of Words = \",svm_bow_acc)\n",
    "svm_tf_acc = accuracy_score(test['sentiment'],svm_tf_predict)\n",
    "print(\"Table = \",svm_tf_acc )"
   ]
  },
  {
   "cell_type": "code",
   "execution_count": null,
   "id": "36f21dee",
   "metadata": {},
   "outputs": [
    {
     "name": "stdout",
     "output_type": "stream",
     "text": [
      "              precision    recall  f1-score   support\n",
      "\n",
      "    Positive       0.96      0.89      0.92    601136\n",
      "    Negative       0.29      0.54      0.38     49716\n",
      "\n",
      "    accuracy                           0.86    650852\n",
      "   macro avg       0.62      0.72      0.65    650852\n",
      "weighted avg       0.91      0.86      0.88    650852\n",
      "\n"
     ]
    }
   ],
   "source": [
    "svm_trdf_report = classification_report(test['sentiment'],svm_bow_predict,target_names=['Positive','Negative'])\n",
    "print(svm_trdf_report)"
   ]
  },
  {
   "cell_type": "code",
   "execution_count": null,
   "id": "49c54d27",
   "metadata": {},
   "outputs": [
    {
     "name": "stdout",
     "output_type": "stream",
     "text": [
      "[[535004  66132]\n",
      " [ 22815  26901]]\n",
      "[[477191 123945]\n",
      " [ 12612  37104]]\n"
     ]
    },
    {
     "data": {
      "image/png": "[encoded data removed]",
      "text/plain": [
       "<Figure size 640x480 with 2 Axes>"
      ]
     },
     "metadata": {},
     "output_type": "display_data"
    },
    {
     "data": {
      "image/png": "[encoded data removed]",
      "text/plain": [
       "<Figure size 640x480 with 2 Axes>"
      ]
     },
     "metadata": {},
     "output_type": "display_data"
    }
   ],
   "source": [
    "cm_bow = confusion_matrix(test['sentiment'],svm_bow_predict,labels=[0,1])\n",
    "print(cm_bow)\n",
    "tf_bow = confusion_matrix(test['sentiment'],svm_tf_predict,labels=[0,1])\n",
    "print(tf_bow)\n",
    "\n",
    "sns.heatmap(cm_bow,annot=True, fmt='d', cmap='Blues')\n",
    "plt.xlabel(\"Predição\")\n",
    "plt.ylabel(\"Real\")\n",
    "plt.title(\"SVM - BOW\")\n",
    "plt.savefig('SVM_BOW.png')\n",
    "plt.show()\n",
    "\n",
    "sns.heatmap(tf_bow,annot=True, fmt='d', cmap='Blues')\n",
    "plt.xlabel(\"Predição\")\n",
    "plt.ylabel(\"Real\")\n",
    "plt.title(\"SVM - Table Frequency\")\n",
    "plt.savefig('SVM_TFID.png')\n",
    "plt.show()"
   ]
  },
  {
   "cell_type": "markdown",
   "id": "61261f1d",
   "metadata": {},
   "source": [
    "# Naive Bayes"
   ]
  },
  {
   "cell_type": "code",
   "execution_count": null,
   "id": "a17c6ada",
   "metadata": {},
   "outputs": [],
   "source": [
    "mvb = MultinomialNB()\n",
    "\n",
    "mvb_bow = mvb.fit(cv_train, train['sentiment'])\n",
    "mvb_tf = mvb.fit(tv_train, train['sentiment'])"
   ]
  },
  {
   "cell_type": "code",
   "execution_count": null,
   "id": "d137c223",
   "metadata": {},
   "outputs": [
    {
     "name": "stdout",
     "output_type": "stream",
     "text": [
      "[0 1 1 ... 0 1 0]\n",
      "[0 1 1 ... 0 1 0]\n"
     ]
    }
   ],
   "source": [
    "mvb_bow_predict = mvb_bow.predict(cv_test)\n",
    "print(mvb_bow_predict)\n",
    "\n",
    "mvb_tf_predict = mvb_tf.predict(tv_test)\n",
    "print(mvb_tf_predict)"
   ]
  },
  {
   "cell_type": "code",
   "execution_count": null,
   "id": "1dacdfb8",
   "metadata": {},
   "outputs": [],
   "source": [
    "results['Naive Bayes'] = {\n",
    "    'Bag Of Words' : {\n",
    "        'acc': accuracy_score(test['sentiment'],mvb_bow_predict),\n",
    "        'precision': precision_score(test['sentiment'],mvb_bow_predict),\n",
    "        'recal': recall_score(test['sentiment'],mvb_bow_predict),\n",
    "        'f1_score': f1_score(test['sentiment'],mvb_bow_predict)\n",
    "    },\n",
    "    'Table Frequency' : {\n",
    "        'acc': accuracy_score(test['sentiment'],mvb_tf_predict),\n",
    "        'precision': precision_score(test['sentiment'],mvb_tf_predict),\n",
    "        'recal': recall_score(test['sentiment'],mvb_tf_predict),\n",
    "        'f1_score': f1_score(test['sentiment'],mvb_tf_predict)\n",
    "    }\n",
    "}"
   ]
  },
  {
   "cell_type": "code",
   "execution_count": null,
   "id": "4a9dc562",
   "metadata": {},
   "outputs": [
    {
     "name": "stdout",
     "output_type": "stream",
     "text": [
      "Bag Of Words =  0.8625447874478376\n",
      "Table =  0.8525886069336808\n"
     ]
    }
   ],
   "source": [
    "mvb_bow_acc = accuracy_score(test['sentiment'],mvb_bow_predict)\n",
    "print(\"Bag Of Words = \",mvb_bow_acc)\n",
    "mvb_tf_acc = accuracy_score(test['sentiment'],mvb_tf_predict)\n",
    "print(\"Table = \",mvb_tf_acc )"
   ]
  },
  {
   "cell_type": "code",
   "execution_count": null,
   "id": "ce984bc8",
   "metadata": {},
   "outputs": [
    {
     "name": "stdout",
     "output_type": "stream",
     "text": [
      "[[526288  74848]\n",
      " [ 14615  35101]]\n",
      "[[518537  82599]\n",
      " [ 13344  36372]]\n"
     ]
    },
    {
     "data": {
      "image/png": "[encoded data removed]",
      "text/plain": [
       "<Figure size 640x480 with 2 Axes>"
      ]
     },
     "metadata": {},
     "output_type": "display_data"
    },
    {
     "data": {
      "image/png": "[encoded data removed]",
      "text/plain": [
       "<Figure size 640x480 with 2 Axes>"
      ]
     },
     "metadata": {},
     "output_type": "display_data"
    }
   ],
   "source": [
    "cm_bow = confusion_matrix(test['sentiment'],mvb_bow_predict,labels=[0,1])\n",
    "print(cm_bow)\n",
    "tf_bow = confusion_matrix(test['sentiment'],mvb_tf_predict,labels=[0,1])\n",
    "print(tf_bow)\n",
    "\n",
    "sns.heatmap(cm_bow,annot=True, fmt='d', cmap='Blues')\n",
    "plt.xlabel(\"Predição\")\n",
    "plt.ylabel(\"Real\")\n",
    "plt.title(\"MNV - BOW\")\n",
    "plt.savefig('MNV_BOW.png')\n",
    "plt.show()\n",
    "\n",
    "sns.heatmap(tf_bow,annot=True, fmt='d', cmap='Blues')\n",
    "plt.xlabel(\"Predição\")\n",
    "plt.ylabel(\"Real\")\n",
    "plt.title(\"MNV - Table Frequency\")\n",
    "plt.savefig('MNV_TFID.png')\n",
    "plt.show()"
   ]
  },
  {
   "cell_type": "code",
   "execution_count": null,
   "id": "dbf95b29",
   "metadata": {},
   "outputs": [],
   "source": [
    "import json\n",
    "\n",
    "with open('results.json', 'w') as file:\n",
    "     file.write(json.dumps(results))"
   ]
  },
  {
   "cell_type": "markdown",
   "id": "cffa0ba1",
   "metadata": {},
   "source": []
  }
 ],
 "metadata": {
  "kernelspec": {
   "display_name": "Python 3",
   "language": "python",
   "name": "python3"
  },
  "language_info": {
   "codemirror_mode": {
    "name": "ipython",
    "version": 3
   },
   "file_extension": ".py",
   "mimetype": "text/x-python",
   "name": "python",
   "nbconvert_exporter": "python",
   "pygments_lexer": "ipython3",
   "version": "3.9.13"
  }
 },
 "nbformat": 4,
 "nbformat_minor": 5
}
