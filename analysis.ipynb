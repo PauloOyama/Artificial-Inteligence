version https://git-lfs.github.com/spec/v1
oid sha256:8342af4c3d57abdc733c0a794ddd17527a8271e65bcd2f0b13edb5d03431ad0d
size 18457
