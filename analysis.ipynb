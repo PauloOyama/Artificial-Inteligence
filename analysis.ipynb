{
 "cells": [
  {
   "cell_type": "code",
   "execution_count": 215,
   "id": "ed898062",
   "metadata": {},
   "outputs": [],
   "source": [
    "\n",
    "# import libraries\n",
    "import pandas as pd\n",
    "import nltk\n",
    "from nltk.sentiment.vader import SentimentIntensityAnalyzer\n",
    "from nltk.corpus import stopwords\n",
    "from nltk.tokenize import word_tokenize\n",
    "from nltk.stem import WordNetLemmatizer\n",
    "import string\n",
    "from nltk.stem.porter import *\n",
    "from collections import defaultdict\n",
    "import math\n",
    "from sklearn.model_selection import train_test_split\n",
    "import matplotlib.pyplot as plt\n",
    "import numpy\n",
    "from sklearn.metrics import confusion_matrix,ConfusionMatrixDisplay,precision_score,accuracy_score"
   ]
  },
  {
   "cell_type": "code",
   "execution_count": 27,
   "id": "f19e84d4",
   "metadata": {},
   "outputs": [],
   "source": [
    "# nltk.download(\"all\")"
   ]
  },
  {
   "cell_type": "code",
   "execution_count": 129,
   "id": "dc279cb0",
   "metadata": {},
   "outputs": [],
   "source": [
    "# Load the amazon review dataset\n",
    "df = pd.read_csv('./data/IMDB Dataset.csv')"
   ]
  },
  {
   "cell_type": "code",
   "execution_count": 130,
   "id": "b92714b4",
   "metadata": {},
   "outputs": [
    {
     "data": {
      "text/html": [
       "<div>\n",
       "<style scoped>\n",
       "    .dataframe tbody tr th:only-of-type {\n",
       "        vertical-align: middle;\n",
       "    }\n",
       "\n",
       "    .dataframe tbody tr th {\n",
       "        vertical-align: top;\n",
       "    }\n",
       "\n",
       "    .dataframe thead th {\n",
       "        text-align: right;\n",
       "    }\n",
       "</style>\n",
       "<table border=\"1\" class=\"dataframe\">\n",
       "  <thead>\n",
       "    <tr style=\"text-align: right;\">\n",
       "      <th></th>\n",
       "      <th>review</th>\n",
       "      <th>sentiment</th>\n",
       "    </tr>\n",
       "  </thead>\n",
       "  <tbody>\n",
       "    <tr>\n",
       "      <th>0</th>\n",
       "      <td>One of the other reviewers has mentioned that ...</td>\n",
       "      <td>positive</td>\n",
       "    </tr>\n",
       "    <tr>\n",
       "      <th>1</th>\n",
       "      <td>A wonderful little production. &lt;br /&gt;&lt;br /&gt;The...</td>\n",
       "      <td>positive</td>\n",
       "    </tr>\n",
       "    <tr>\n",
       "      <th>2</th>\n",
       "      <td>I thought this was a wonderful way to spend ti...</td>\n",
       "      <td>positive</td>\n",
       "    </tr>\n",
       "    <tr>\n",
       "      <th>3</th>\n",
       "      <td>Basically there's a family where a little boy ...</td>\n",
       "      <td>negative</td>\n",
       "    </tr>\n",
       "    <tr>\n",
       "      <th>4</th>\n",
       "      <td>Petter Mattei's \"Love in the Time of Money\" is...</td>\n",
       "      <td>positive</td>\n",
       "    </tr>\n",
       "    <tr>\n",
       "      <th>...</th>\n",
       "      <td>...</td>\n",
       "      <td>...</td>\n",
       "    </tr>\n",
       "    <tr>\n",
       "      <th>49995</th>\n",
       "      <td>I thought this movie did a down right good job...</td>\n",
       "      <td>positive</td>\n",
       "    </tr>\n",
       "    <tr>\n",
       "      <th>49996</th>\n",
       "      <td>Bad plot, bad dialogue, bad acting, idiotic di...</td>\n",
       "      <td>negative</td>\n",
       "    </tr>\n",
       "    <tr>\n",
       "      <th>49997</th>\n",
       "      <td>I am a Catholic taught in parochial elementary...</td>\n",
       "      <td>negative</td>\n",
       "    </tr>\n",
       "    <tr>\n",
       "      <th>49998</th>\n",
       "      <td>I'm going to have to disagree with the previou...</td>\n",
       "      <td>negative</td>\n",
       "    </tr>\n",
       "    <tr>\n",
       "      <th>49999</th>\n",
       "      <td>No one expects the Star Trek movies to be high...</td>\n",
       "      <td>negative</td>\n",
       "    </tr>\n",
       "  </tbody>\n",
       "</table>\n",
       "<p>50000 rows × 2 columns</p>\n",
       "</div>"
      ],
      "text/plain": [
       "                                                  review sentiment\n",
       "0      One of the other reviewers has mentioned that ...  positive\n",
       "1      A wonderful little production. <br /><br />The...  positive\n",
       "2      I thought this was a wonderful way to spend ti...  positive\n",
       "3      Basically there's a family where a little boy ...  negative\n",
       "4      Petter Mattei's \"Love in the Time of Money\" is...  positive\n",
       "...                                                  ...       ...\n",
       "49995  I thought this movie did a down right good job...  positive\n",
       "49996  Bad plot, bad dialogue, bad acting, idiotic di...  negative\n",
       "49997  I am a Catholic taught in parochial elementary...  negative\n",
       "49998  I'm going to have to disagree with the previou...  negative\n",
       "49999  No one expects the Star Trek movies to be high...  negative\n",
       "\n",
       "[50000 rows x 2 columns]"
      ]
     },
     "execution_count": 130,
     "metadata": {},
     "output_type": "execute_result"
    }
   ],
   "source": [
    "df"
   ]
  },
  {
   "cell_type": "code",
   "execution_count": 131,
   "id": "813c9fb6",
   "metadata": {},
   "outputs": [
    {
     "data": {
      "text/plain": [
       "(50000, 2)"
      ]
     },
     "execution_count": 131,
     "metadata": {},
     "output_type": "execute_result"
    }
   ],
   "source": [
    "df.shape"
   ]
  },
  {
   "cell_type": "code",
   "execution_count": 163,
   "id": "0622ad38",
   "metadata": {},
   "outputs": [],
   "source": [
    "df = df[:10000]"
   ]
  },
  {
   "cell_type": "code",
   "execution_count": 148,
   "id": "936588d5",
   "metadata": {},
   "outputs": [
    {
     "data": {
      "text/html": [
       "<div>\n",
       "<style scoped>\n",
       "    .dataframe tbody tr th:only-of-type {\n",
       "        vertical-align: middle;\n",
       "    }\n",
       "\n",
       "    .dataframe tbody tr th {\n",
       "        vertical-align: top;\n",
       "    }\n",
       "\n",
       "    .dataframe thead th {\n",
       "        text-align: right;\n",
       "    }\n",
       "</style>\n",
       "<table border=\"1\" class=\"dataframe\">\n",
       "  <thead>\n",
       "    <tr style=\"text-align: right;\">\n",
       "      <th></th>\n",
       "      <th>review</th>\n",
       "      <th>sentiment</th>\n",
       "    </tr>\n",
       "  </thead>\n",
       "  <tbody>\n",
       "    <tr>\n",
       "      <th>0</th>\n",
       "      <td>One of the other reviewers has mentioned that ...</td>\n",
       "      <td>positive</td>\n",
       "    </tr>\n",
       "    <tr>\n",
       "      <th>1</th>\n",
       "      <td>A wonderful little production. &lt;br /&gt;&lt;br /&gt;The...</td>\n",
       "      <td>positive</td>\n",
       "    </tr>\n",
       "    <tr>\n",
       "      <th>2</th>\n",
       "      <td>I thought this was a wonderful way to spend ti...</td>\n",
       "      <td>positive</td>\n",
       "    </tr>\n",
       "    <tr>\n",
       "      <th>3</th>\n",
       "      <td>Basically there's a family where a little boy ...</td>\n",
       "      <td>negative</td>\n",
       "    </tr>\n",
       "    <tr>\n",
       "      <th>4</th>\n",
       "      <td>Petter Mattei's \"Love in the Time of Money\" is...</td>\n",
       "      <td>positive</td>\n",
       "    </tr>\n",
       "    <tr>\n",
       "      <th>...</th>\n",
       "      <td>...</td>\n",
       "      <td>...</td>\n",
       "    </tr>\n",
       "    <tr>\n",
       "      <th>9995</th>\n",
       "      <td>Fun, entertaining movie about WWII German spy ...</td>\n",
       "      <td>positive</td>\n",
       "    </tr>\n",
       "    <tr>\n",
       "      <th>9996</th>\n",
       "      <td>Give me a break. How can anyone say that this ...</td>\n",
       "      <td>negative</td>\n",
       "    </tr>\n",
       "    <tr>\n",
       "      <th>9997</th>\n",
       "      <td>This movie is a bad movie. But after watching ...</td>\n",
       "      <td>negative</td>\n",
       "    </tr>\n",
       "    <tr>\n",
       "      <th>9998</th>\n",
       "      <td>This is a movie that was probably made to ente...</td>\n",
       "      <td>negative</td>\n",
       "    </tr>\n",
       "    <tr>\n",
       "      <th>9999</th>\n",
       "      <td>Smashing film about film-making. Shows the int...</td>\n",
       "      <td>positive</td>\n",
       "    </tr>\n",
       "  </tbody>\n",
       "</table>\n",
       "<p>10000 rows × 2 columns</p>\n",
       "</div>"
      ],
      "text/plain": [
       "                                                 review sentiment\n",
       "0     One of the other reviewers has mentioned that ...  positive\n",
       "1     A wonderful little production. <br /><br />The...  positive\n",
       "2     I thought this was a wonderful way to spend ti...  positive\n",
       "3     Basically there's a family where a little boy ...  negative\n",
       "4     Petter Mattei's \"Love in the Time of Money\" is...  positive\n",
       "...                                                 ...       ...\n",
       "9995  Fun, entertaining movie about WWII German spy ...  positive\n",
       "9996  Give me a break. How can anyone say that this ...  negative\n",
       "9997  This movie is a bad movie. But after watching ...  negative\n",
       "9998  This is a movie that was probably made to ente...  negative\n",
       "9999  Smashing film about film-making. Shows the int...  positive\n",
       "\n",
       "[10000 rows x 2 columns]"
      ]
     },
     "execution_count": 148,
     "metadata": {},
     "output_type": "execute_result"
    }
   ],
   "source": [
    "df"
   ]
  },
  {
   "cell_type": "code",
   "execution_count": 164,
   "id": "477585d9",
   "metadata": {},
   "outputs": [],
   "source": [
    "train, test = train_test_split(df,test_size=0.30, shuffle= True)"
   ]
  },
  {
   "cell_type": "code",
   "execution_count": null,
   "id": "cb5d3aa4",
   "metadata": {},
   "outputs": [],
   "source": [
    "def preprocess_text(text:str):\n",
    "    \n",
    "    text = text.translate(str.maketrans(\"\", \"\", string.punctuation))\n",
    "    \n",
    "    tokens = word_tokenize(text.lower())\n",
    "\n",
    "    filtered_tokens = [token for token in tokens if token not in stopwords.words('english')]\n",
    "\n",
    "    stemmer =  PorterStemmer()\n",
    "    \n",
    "    stopwords_set = set(stopwords.words(\"english\"))\n",
    "    \n",
    "    tokens_2 = [stemmer.stem(token) for token in filtered_tokens if token not in stopwords_set]\n",
    "\n",
    "    return tokens_2"
   ]
  },
  {
   "cell_type": "code",
   "execution_count": 165,
   "id": "379673c8",
   "metadata": {},
   "outputs": [
    {
     "data": {
      "text/html": [
       "<div>\n",
       "<style scoped>\n",
       "    .dataframe tbody tr th:only-of-type {\n",
       "        vertical-align: middle;\n",
       "    }\n",
       "\n",
       "    .dataframe tbody tr th {\n",
       "        vertical-align: top;\n",
       "    }\n",
       "\n",
       "    .dataframe thead th {\n",
       "        text-align: right;\n",
       "    }\n",
       "</style>\n",
       "<table border=\"1\" class=\"dataframe\">\n",
       "  <thead>\n",
       "    <tr style=\"text-align: right;\">\n",
       "      <th></th>\n",
       "      <th>review</th>\n",
       "      <th>sentiment</th>\n",
       "    </tr>\n",
       "  </thead>\n",
       "  <tbody>\n",
       "    <tr>\n",
       "      <th>9787</th>\n",
       "      <td>While it was filmed at a Florida National Guar...</td>\n",
       "      <td>positive</td>\n",
       "    </tr>\n",
       "    <tr>\n",
       "      <th>3834</th>\n",
       "      <td>It's boring.&lt;br /&gt;&lt;br /&gt;It's slow.&lt;br /&gt;&lt;br /&gt;...</td>\n",
       "      <td>negative</td>\n",
       "    </tr>\n",
       "    <tr>\n",
       "      <th>7986</th>\n",
       "      <td>All Boris Karloff fans will love this classic ...</td>\n",
       "      <td>positive</td>\n",
       "    </tr>\n",
       "    <tr>\n",
       "      <th>1263</th>\n",
       "      <td>A Vow to Cherish is a wonderful movie. It's ba...</td>\n",
       "      <td>positive</td>\n",
       "    </tr>\n",
       "    <tr>\n",
       "      <th>5854</th>\n",
       "      <td>This very funny British comedy shows what migh...</td>\n",
       "      <td>positive</td>\n",
       "    </tr>\n",
       "    <tr>\n",
       "      <th>...</th>\n",
       "      <td>...</td>\n",
       "      <td>...</td>\n",
       "    </tr>\n",
       "    <tr>\n",
       "      <th>7024</th>\n",
       "      <td>STAR RATING: ***** The Works **** Just Misses ...</td>\n",
       "      <td>positive</td>\n",
       "    </tr>\n",
       "    <tr>\n",
       "      <th>730</th>\n",
       "      <td>This is the Who at their most powerful. Althou...</td>\n",
       "      <td>positive</td>\n",
       "    </tr>\n",
       "    <tr>\n",
       "      <th>8577</th>\n",
       "      <td>This film has \"haunted\" me since I saw it when...</td>\n",
       "      <td>positive</td>\n",
       "    </tr>\n",
       "    <tr>\n",
       "      <th>5907</th>\n",
       "      <td>i'm watching this horrid film as we speak. it ...</td>\n",
       "      <td>negative</td>\n",
       "    </tr>\n",
       "    <tr>\n",
       "      <th>3758</th>\n",
       "      <td>Overall I would have to say that I liked the m...</td>\n",
       "      <td>positive</td>\n",
       "    </tr>\n",
       "  </tbody>\n",
       "</table>\n",
       "<p>7000 rows × 2 columns</p>\n",
       "</div>"
      ],
      "text/plain": [
       "                                                 review sentiment\n",
       "9787  While it was filmed at a Florida National Guar...  positive\n",
       "3834  It's boring.<br /><br />It's slow.<br /><br />...  negative\n",
       "7986  All Boris Karloff fans will love this classic ...  positive\n",
       "1263  A Vow to Cherish is a wonderful movie. It's ba...  positive\n",
       "5854  This very funny British comedy shows what migh...  positive\n",
       "...                                                 ...       ...\n",
       "7024  STAR RATING: ***** The Works **** Just Misses ...  positive\n",
       "730   This is the Who at their most powerful. Althou...  positive\n",
       "8577  This film has \"haunted\" me since I saw it when...  positive\n",
       "5907  i'm watching this horrid film as we speak. it ...  negative\n",
       "3758  Overall I would have to say that I liked the m...  positive\n",
       "\n",
       "[7000 rows x 2 columns]"
      ]
     },
     "execution_count": 165,
     "metadata": {},
     "output_type": "execute_result"
    }
   ],
   "source": [
    "train"
   ]
  },
  {
   "cell_type": "code",
   "execution_count": null,
   "id": "0d8e124a",
   "metadata": {},
   "outputs": [],
   "source": [
    "def calculate_word_counts(reviews):\n",
    "    word_count = defaultdict(int)\n",
    "    \n",
    "    for review in reviews:\n",
    "        tokens = preprocess_text(review)\n",
    "        \n",
    "        for token in tokens:\n",
    "            word_count[token] += 1\n",
    "    \n",
    "    return word_count"
   ]
  },
  {
   "cell_type": "code",
   "execution_count": null,
   "id": "c839ece6",
   "metadata": {},
   "outputs": [],
   "source": [
    "def calculate_likelihood(word_count, total_words, laplacian_smoothing=1):\n",
    "    likelihood = {}\n",
    "    \n",
    "    vocabulary_size = len(word_count)\n",
    "\n",
    "    for word, count in word_count.items():\n",
    "        likelihood[word] = (count + laplacian_smoothing) / (total_words + laplacian_smoothing * vocabulary_size)\n",
    "\n",
    "    # Return the calculated likelihood dictionary\n",
    "    return likelihood"
   ]
  },
  {
   "cell_type": "code",
   "execution_count": null,
   "id": "f9a373f3",
   "metadata": {},
   "outputs": [],
   "source": [
    "def calculate_log_prior(sentiment, data):\n",
    "    return math.log(len(data[data['sentiment'] == sentiment]) / len(data))"
   ]
  },
  {
   "cell_type": "code",
   "execution_count": 169,
   "id": "df6d7ca9",
   "metadata": {},
   "outputs": [],
   "source": [
    "def classify_review_with_scores(review, log_likelihood_positive, log_likelihood_negative,log_prior_positive, log_prior_negative):\n",
    "    tokens = preprocess_text(review)\n",
    "\n",
    "    log_score_positive = log_prior_positive + sum([log_likelihood_positive.get(token, 0) for token in tokens])\n",
    "    log_score_negative = log_prior_negative + sum([log_likelihood_negative.get(token, 0) for token in tokens])\n",
    "\n",
    "    sentiment_scores = {\n",
    "        'positive': log_score_positive,\n",
    "        'negative': log_score_negative\n",
    "    }\n",
    "\n",
    "    predicted_sentiment = max(sentiment_scores, key=sentiment_scores.get)\n",
    "    return predicted_sentiment, sentiment_scores"
   ]
  },
  {
   "cell_type": "code",
   "execution_count": 167,
   "id": "f7c71b2b",
   "metadata": {},
   "outputs": [],
   "source": [
    "word_count_positive = calculate_word_counts(train[train['sentiment'] == 'positive']['review'])\n",
    "word_count_negative = calculate_word_counts(train[train['sentiment'] == 'negative']['review'])\n",
    "\n",
    "total_positive_words = sum(word_count_positive.values())\n",
    "total_negative_words = sum(word_count_negative.values())\n",
    "\n",
    "likelihood_positive = calculate_likelihood(word_count_positive, total_positive_words)\n",
    "likelihood_negative = calculate_likelihood(word_count_negative, total_negative_words)\n",
    "\n",
    "positive = calculate_log_prior('positive', train)\n",
    "negative = calculate_log_prior('negative', train)\n",
    "\n",
    "log_likelihood_positive = {word: math.log(prob) for word, prob in likelihood_positive.items()}\n",
    "log_likelihood_negative = {word: math.log(prob) for word, prob in likelihood_negative.items()}"
   ]
  },
  {
   "cell_type": "code",
   "execution_count": null,
   "id": "2d543582",
   "metadata": {},
   "outputs": [],
   "source": [
    "correct_predictions = 0\n",
    "total_predictions = len(test)\n",
    "y_pred = []\n",
    "\n",
    "for index, row in test.iterrows():\n",
    "    predicted_sentiment, sentiment_scores = classify_review_with_scores(\n",
    "        row['review'], log_likelihood_positive, log_likelihood_negative,\n",
    "        positive, negative,\n",
    "    )\n",
    "    y_pred.append(predicted_sentiment)"
   ]
  },
  {
   "cell_type": "code",
   "execution_count": 172,
   "id": "f862cacd",
   "metadata": {},
   "outputs": [
    {
     "data": {
      "text/plain": [
       "8896    negative\n",
       "276     negative\n",
       "749     positive\n",
       "5811    negative\n",
       "1680    negative\n",
       "          ...   \n",
       "8758    positive\n",
       "5330    negative\n",
       "9896    negative\n",
       "2144    negative\n",
       "3621    negative\n",
       "Name: sentiment, Length: 3000, dtype: object"
      ]
     },
     "execution_count": 172,
     "metadata": {},
     "output_type": "execute_result"
    }
   ],
   "source": [
    "test['sentiment']"
   ]
  },
  {
   "cell_type": "code",
   "execution_count": 205,
   "id": "dfa0580a",
   "metadata": {},
   "outputs": [
    {
     "data": {
      "text/plain": [
       "3000"
      ]
     },
     "execution_count": 205,
     "metadata": {},
     "output_type": "execute_result"
    }
   ],
   "source": [
    "len(y_pred)"
   ]
  },
  {
   "cell_type": "code",
   "execution_count": 206,
   "id": "5781d700",
   "metadata": {},
   "outputs": [
    {
     "data": {
      "image/png": "[encoded data removed]",
      "text/plain": [
       "<Figure size 640x480 with 2 Axes>"
      ]
     },
     "metadata": {},
     "output_type": "display_data"
    }
   ],
   "source": [
    "confusion_matr = confusion_matrix(test['sentiment'], y_pred)\n",
    "\n",
    "cm_display = ConfusionMatrixDisplay(confusion_matrix = confusion_matr, display_labels = [0, 1])\n",
    "\n",
    "cm_display.plot()\n",
    "plt.show() "
   ]
  },
  {
   "cell_type": "code",
   "execution_count": null,
   "id": "e8847cd5",
   "metadata": {},
   "outputs": [
    {
     "data": {
      "text/plain": [
       "0.5687790202848095"
      ]
     },
     "execution_count": 219,
     "metadata": {},
     "output_type": "execute_result"
    }
   ],
   "source": [
    "accuracy_score(test['sentiment'], y_pred)"
   ]
  },
  {
   "cell_type": "code",
   "execution_count": 222,
   "id": "2ca958e4",
   "metadata": {},
   "outputs": [
    {
     "data": {
      "text/plain": [
       "0.5687790202848095"
      ]
     },
     "execution_count": 222,
     "metadata": {},
     "output_type": "execute_result"
    }
   ],
   "source": [
    "precision_score(test['sentiment'], y_pred,average='macro')"
   ]
  }
 ],
 "metadata": {
  "kernelspec": {
   "display_name": ".venv",
   "language": "python",
   "name": "python3"
  },
  "language_info": {
   "codemirror_mode": {
    "name": "ipython",
    "version": 3
   },
   "file_extension": ".py",
   "mimetype": "text/x-python",
   "name": "python",
   "nbconvert_exporter": "python",
   "pygments_lexer": "ipython3",
   "version": "3.13.3"
  }
 },
 "nbformat": 4,
 "nbformat_minor": 5
}
