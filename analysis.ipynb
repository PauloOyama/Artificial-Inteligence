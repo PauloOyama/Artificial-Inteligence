version https://git-lfs.github.com/spec/v1
oid sha256:bc56937a2722d295c3a1dbafe405cf6741df91cb89dfbe95e579e0949ba24d22
size 20321
